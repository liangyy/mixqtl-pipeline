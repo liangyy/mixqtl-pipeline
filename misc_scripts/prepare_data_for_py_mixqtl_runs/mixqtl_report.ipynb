{
 "cells": [
  {
   "cell_type": "code",
   "execution_count": 34,
   "metadata": {},
   "outputs": [],
   "source": [
    "import pandas as pd\n",
    "import numpy as np\n",
    "import scipy.stats as stats\n",
    "import os\n",
    "import matplotlib.pyplot as plt"
   ]
  },
  {
   "cell_type": "code",
   "execution_count": 35,
   "metadata": {},
   "outputs": [],
   "source": [
    "def z2p(b, se):\n",
    "    z = b / se\n",
    "    return stats.norm.cdf(-np.abs(z), loc=0, scale=1) * 2"
   ]
  },
  {
   "cell_type": "markdown",
   "metadata": {},
   "source": [
    "# About\n",
    "\n",
    "Here we compare eQTL results from GTEx v8 against mixQTL results on the full transcriptome in whole blood.\n",
    "QQ plot is drawn using all variant/gene pairs with nominal p-value < 0.05 for each method separately."
   ]
  },
  {
   "cell_type": "markdown",
   "metadata": {},
   "source": [
    "# Load data and results"
   ]
  },
  {
   "cell_type": "markdown",
   "metadata": {},
   "source": [
    "## Loading eQTL "
   ]
  },
  {
   "cell_type": "code",
   "execution_count": 36,
   "metadata": {},
   "outputs": [],
   "source": [
    "intermediate_parquet = '/vol/bmd/yanyul/UKB/GTExV8/Whole_Blood.pval_gt_0.05.parquet'\n",
    "if not os.path.isfile(intermediate_parquet):\n",
    "    eqtl_file = '/vol/bmd/yanyul/UKB/GTExV8/Whole_Blood.allpairs.txt.gz'\n",
    "    eqtl = pd.read_csv(eqtl_file, header=0, sep='\\t', compression='gzip')\n",
    "    eqtl['pval_from_z'] = z2p(eqtl[['slope']].to_numpy(), eqtl[['slope_se']].to_numpy())\n",
    "    eqtl[eqtl['pval_from_z'] < 0.05].to_parquet(intermediate_parquet)\n",
    "eqtl_gt_05 = pd.read_parquet(intermediate_parquet)"
   ]
  },
  {
   "cell_type": "markdown",
   "metadata": {},
   "source": [
    "## Loading mixQTL"
   ]
  },
  {
   "cell_type": "code",
   "execution_count": 37,
   "metadata": {},
   "outputs": [],
   "source": [
    "intermediate_parquet0 = '/vol/bmd/yanyul/UKB/GTExV8/Whole_Blood.mixqtl_meta.pval_gt_0.05.parquet'\n",
    "intermediate_parquet1 = '/vol/bmd/yanyul/UKB/GTExV8/Whole_Blood.mixqtl_trc.pval_gt_0.05.parquet'\n",
    "if not os.path.isfile(intermediate_parquet0):\n",
    "    mixqtl_file = '/vol/bmd/yanyul/UKB/GTExV8/mixqtl/Whole_Blood_GTEx_eGene.cis_qtl_pairs.mixQTL.chr{chr}.parquet'\n",
    "    chrs = [ i for i in range(1, 23) ]\n",
    "    chrs.append('X')\n",
    "    mixqtl = pd.DataFrame()\n",
    "    mixqtl_trc = pd.DataFrame()\n",
    "    for i in chrs:\n",
    "        print(f'on chromosome {i}')\n",
    "        tmp_ = pd.read_parquet(mixqtl_file.format(chr = i))\n",
    "        mixqtl = pd.concat([mixqtl, tmp_[tmp_['pval_meta'] < 0.05]]) \n",
    "        mixqtl_trc = pd.concat([mixqtl_trc, tmp_[tmp_['pval_trc'] < 0.05]]) \n",
    "    mixqtl.to_parquet(intermediate_parquet0)\n",
    "    mixqtl_trc.to_parquet(intermediate_parquet1)\n",
    "mixqtl_gt_05 = pd.read_parquet(intermediate_parquet0)\n",
    "mixqtl_trc_gt_05 = pd.read_parquet(intermediate_parquet1)"
   ]
  },
  {
   "cell_type": "markdown",
   "metadata": {},
   "source": [
    "# Visualization"
   ]
  },
  {
   "cell_type": "code",
   "execution_count": 38,
   "metadata": {},
   "outputs": [],
   "source": [
    "mixqtl_trc_gt_05['pval_trc_from_z'] = z2p(mixqtl_trc_gt_05['beta_trc'].to_numpy(), mixqtl_trc_gt_05['beta_se_trc'].to_numpy())\n",
    "eqtl_gt_05['tstat'] = eqtl_gt_05['slope'] / eqtl_gt_05['slope_se']\n",
    "\n"
   ]
  },
  {
   "cell_type": "markdown",
   "metadata": {},
   "source": [
    "## Comparing eQTL to mixQTL and trcQTL"
   ]
  },
  {
   "cell_type": "code",
   "execution_count": 39,
   "metadata": {},
   "outputs": [],
   "source": [
    "# prepare plot function\n",
    "def myplot(vec_dic, n_points=100, cutoff_in_plot=20):\n",
    "#     n = 100\n",
    "    cutoff = np.exp(-cutoff_in_plot)\n",
    "    quantiles = np.array([ i / n_points for i in range(1, n_points) ])\n",
    "    ylim = -np.log(quantiles / 20).min()\n",
    "    q_dic = {}\n",
    "    for i in vec_dic.keys():\n",
    "        q_dic[i] = vec_dic[i].quantile(quantiles)\n",
    "        q_dic[i][q_dic[i] < cutoff] = cutoff\n",
    "    ax, fig = plt.subplots(nrows=1, ncols=1)\n",
    "\n",
    "    for i in q_dic.keys():\n",
    "        fig.plot(-np.log(quantiles / 20), -np.log(q_dic[i].to_numpy()), label=i)\n",
    "#         fig.scatter(-np.log(quantiles / 20), -np.log(q_dic[i].to_numpy()), label=i)\n",
    "    fig.plot([2, ylim], [2, ylim], color='black')\n",
    "    fig.legend(loc=\"upper left\")\n",
    "    return fig\n"
   ]
  },
  {
   "cell_type": "code",
   "execution_count": 40,
   "metadata": {},
   "outputs": [
    {
     "data": {
      "text/plain": [
       "<matplotlib.axes._subplots.AxesSubplot at 0x7ef8581dac50>"
      ]
     },
     "execution_count": 40,
     "metadata": {},
     "output_type": "execute_result"
    },
    {
     "data": {
      "image/png": "[encoded data removed]",
      "text/plain": [
       "<Figure size 432x288 with 1 Axes>"
      ]
     },
     "metadata": {
      "needs_background": "light"
     },
     "output_type": "display_data"
    }
   ],
   "source": [
    "vec_dic = {\n",
    "    'eQTL': eqtl_gt_05['pval_from_z'], \n",
    "    'mixQTL': mixqtl_gt_05['pval_meta'],\n",
    "#     'trcQTL': mixqtl_trc_gt_05['pval_trc_from_z']\n",
    "}\n",
    "myplot(vec_dic)"
   ]
  },
  {
   "cell_type": "markdown",
   "metadata": {},
   "source": [
    "## Compare eQTL to mixQTL as the ones using meta-analysis"
   ]
  },
  {
   "cell_type": "code",
   "execution_count": null,
   "metadata": {},
   "outputs": [],
   "source": [
    "mixqtl_use_meta = mixqtl_gt_05[ mixqtl_gt_05['method_meta'] == 'meta' ]\n",
    "eqtl_gt_05['gene_id'] = eqtl_gt_05['gene_id'].apply(lambda x: x.split('.')[0])\n",
    "eqtl_use_meta = eqtl_gt_05[ eqtl_gt_05['gene_id'].isin(mixqtl_use_meta['phenotype_id']) ]"
   ]
  },
  {
   "cell_type": "code",
   "execution_count": null,
   "metadata": {},
   "outputs": [],
   "source": [
    "vec_dic = {\n",
    "    'eQTL': eqtl_use_meta['pval_from_z'], \n",
    "    'mixQTL': mixqtl_use_meta['pval_meta']\n",
    "}\n",
    "myplot(vec_dic)"
   ]
  },
  {
   "cell_type": "markdown",
   "metadata": {},
   "source": [
    "# Effective sample size"
   ]
  },
  {
   "cell_type": "code",
   "execution_count": null,
   "metadata": {},
   "outputs": [],
   "source": [
    "eqtlgen = pd.read_csv('/vol/bmd/yanyul/UKB/GTExV8/cis-eQTL_significant_20181017_with_GTExV8ID.txt.gz', header=None, sep='\\t', compression='gzip')"
   ]
  },
  {
   "cell_type": "code",
   "execution_count": null,
   "metadata": {},
   "outputs": [],
   "source": [
    "eqtlgen.columns = ['Pvalue', 'SNP', 'SNPChr', 'SNPPos', 'AssessedAllele', 'OtherAllele', 'Zscore', 'Gene', 'GeneSymbol', 'GeneChr', 'GenePos', 'NrCohorts', 'NrSamples', 'FDR', 'variant_id']"
   ]
  },
  {
   "cell_type": "code",
   "execution_count": null,
   "metadata": {},
   "outputs": [],
   "source": [
    "# eqtl_file = '/vol/bmd/yanyul/UKB/GTExV8/Whole_Blood.allpairs.txt.gz'\n",
    "# eqtl = pd.read_csv(eqtl_file, header=0, sep='\\t', compression='gzip')\n",
    "# eqtl['gene_id'] = eqtl['gene_id'].apply(lambda x: x.split('.')[0])"
   ]
  },
  {
   "cell_type": "code",
   "execution_count": null,
   "metadata": {},
   "outputs": [],
   "source": [
    "eqtl_signif = eqtl_gt_05[ eqtl_gt_05['gene_id'].isin(eqtlgen['Gene']) & eqtl_gt_05['variant_id'].isin(eqtlgen['variant_id']) ]\n",
    "mixqtl_signif = mixqtl_gt_05[ mixqtl_gt_05['phenotype_id'].isin(eqtlgen['Gene']) & mixqtl_gt_05['variant_id'].isin(eqtlgen['variant_id']) ]\n",
    "merge_signif = pd.merge(eqtl_signif, mixqtl_signif, left_on=['gene_id', 'variant_id'], right_on=['phenotype_id', 'variant_id'], how='inner')"
   ]
  },
  {
   "cell_type": "code",
   "execution_count": null,
   "metadata": {},
   "outputs": [],
   "source": [
    "merge_signif['ratio'] = merge_signif['tstat_meta'] ** 2 / merge_signif['tstat'] ** 2 \n",
    "merge_signif['effective'] = merge_signif['ratio'] * 670"
   ]
  },
  {
   "cell_type": "code",
   "execution_count": null,
   "metadata": {},
   "outputs": [],
   "source": [
    "eqtl_signif_not = eqtl_gt_05[ ~ (eqtl_gt_05['gene_id'].isin(eqtlgen['Gene']) & eqtl_gt_05['variant_id'].isin(eqtlgen['variant_id']) )]\n",
    "mixqtl_signif_not = mixqtl_gt_05[ ~ (mixqtl_gt_05['phenotype_id'].isin(eqtlgen['Gene']) & mixqtl_gt_05['variant_id'].isin(eqtlgen['variant_id']) )]\n",
    "merge_signif_not = pd.merge(eqtl_signif_not, mixqtl_signif_not, left_on=['gene_id', 'variant_id'], right_on=['phenotype_id', 'variant_id'], how='inner')"
   ]
  },
  {
   "cell_type": "code",
   "execution_count": null,
   "metadata": {},
   "outputs": [],
   "source": [
    "merge_signif_not['ratio'] = merge_signif_not['tstat_meta'] ** 2 / merge_signif_not['tstat'] ** 2 \n",
    "merge_signif_not['effective'] = merge_signif_not['ratio'] * 670"
   ]
  },
  {
   "cell_type": "code",
   "execution_count": null,
   "metadata": {
    "scrolled": true
   },
   "outputs": [],
   "source": [
    "merge_signif['effective'].describe()"
   ]
  },
  {
   "cell_type": "code",
   "execution_count": null,
   "metadata": {},
   "outputs": [],
   "source": [
    "merge_signif_not['effective'].describe()"
   ]
  },
  {
   "cell_type": "code",
   "execution_count": null,
   "metadata": {},
   "outputs": [],
   "source": [
    "# merge_signif[merge_signif['effective'] < 100][['tstat_meta', 'tstat', 'tstat_trc', 'tstat_asc']]"
   ]
  },
  {
   "cell_type": "code",
   "execution_count": null,
   "metadata": {},
   "outputs": [],
   "source": [
    "# mixqtl_gt_05[mixqtl_gt_05['phenotype_id'] == 'ENSG00000231050']['tstat_trc'].describe()"
   ]
  },
  {
   "cell_type": "code",
   "execution_count": null,
   "metadata": {},
   "outputs": [],
   "source": [
    "# eqtl_gt_05['tstat'] = eqtl_gt_05['slope'] / eqtl_gt_05['slope_se']"
   ]
  },
  {
   "cell_type": "code",
   "execution_count": null,
   "metadata": {},
   "outputs": [],
   "source": [
    "# eqtl_gt_05[eqtl_gt_05['gene_id'] == 'ENSG00000231050']['tstat'].describe()"
   ]
  },
  {
   "cell_type": "code",
   "execution_count": null,
   "metadata": {},
   "outputs": [],
   "source": [
    "# test_pair = pd.read_csv('test-list.txt', header=0, sep='\\t')"
   ]
  },
  {
   "cell_type": "code",
   "execution_count": null,
   "metadata": {},
   "outputs": [],
   "source": [
    "# meta = mixqtl_gt_05[ mixqtl_gt_05['phenotype_id'].isin(test_pair['gene']) & mixqtl_gt_05['variant_id'].isin(test_pair['variant']) ]"
   ]
  },
  {
   "cell_type": "code",
   "execution_count": null,
   "metadata": {},
   "outputs": [],
   "source": [
    "# eqtl = eqtl_gt_05[ eqtl_gt_05['gene_id'].isin(test_pair['gene']) & eqtl_gt_05['variant_id'].isin(test_pair['variant']) ]"
   ]
  },
  {
   "cell_type": "code",
   "execution_count": null,
   "metadata": {},
   "outputs": [],
   "source": [
    "# meta['tstat_trc'].describe()"
   ]
  },
  {
   "cell_type": "code",
   "execution_count": null,
   "metadata": {},
   "outputs": [],
   "source": [
    "# eqtl['tstat'].describe()"
   ]
  },
  {
   "cell_type": "code",
   "execution_count": null,
   "metadata": {},
   "outputs": [],
   "source": [
    "# mm = pd.merge(mixqtl_trc_gt_05, eqtl_gt_05, left_on=['phenotype_id', 'variant_id'], right_on=['gene_id', 'variant_id'], how='inner')"
   ]
  },
  {
   "cell_type": "code",
   "execution_count": null,
   "metadata": {},
   "outputs": [],
   "source": [
    "# plt.scatter(mm['tstat_trc'], mm['tstat'])"
   ]
  },
  {
   "cell_type": "code",
   "execution_count": null,
   "metadata": {},
   "outputs": [],
   "source": [
    "# eqtl_gt_05['tstat'].abs().min()"
   ]
  },
  {
   "cell_type": "code",
   "execution_count": null,
   "metadata": {},
   "outputs": [],
   "source": [
    "# o = mm[ (mm['tstat_trc'] - mm['tstat'] < -2) | (mm['tstat_trc'] - mm['tstat'] > 2)]\n",
    "# o['phenotype_id'].unique().shape"
   ]
  },
  {
   "cell_type": "code",
   "execution_count": null,
   "metadata": {},
   "outputs": [],
   "source": [
    "# o = mm[ (mm['tstat'] - mm['tstat_trc'] < -5) ]\n",
    "# o['phenotype_id'].unique().shape"
   ]
  },
  {
   "cell_type": "code",
   "execution_count": null,
   "metadata": {},
   "outputs": [],
   "source": [
    "# o = mm[ (mm['tstat'] - mm['tstat_trc'] > 5) ]\n",
    "# o['phenotype_id'].unique().shape"
   ]
  }
 ],
 "metadata": {
  "kernelspec": {
   "display_name": "Python 3",
   "language": "python",
   "name": "python3"
  },
  "language_info": {
   "codemirror_mode": {
    "name": "ipython",
    "version": 3
   },
   "file_extension": ".py",
   "mimetype": "text/x-python",
   "name": "python",
   "nbconvert_exporter": "python",
   "pygments_lexer": "ipython3",
   "version": "3.7.7"
  }
 },
 "nbformat": 4,
 "nbformat_minor": 4
}
